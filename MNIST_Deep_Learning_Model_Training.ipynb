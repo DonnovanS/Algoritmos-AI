{
  "nbformat": 4,
  "nbformat_minor": 0,
  "metadata": {
    "colab": {
      "provenance": []
    },
    "kernelspec": {
      "name": "python3",
      "display_name": "Python 3"
    },
    "language_info": {
      "name": "python"
    }
  },
  "cells": [
    {
      "cell_type": "markdown",
      "metadata": {
        "id": "9nL_0H702XOs"
      },
      "source": [
        "# Optimización de Parametros."
      ]
    },
    {
      "cell_type": "markdown",
      "metadata": {
        "id": "CU7pIgkhneIZ"
      },
      "source": [
        "# Entrenar el modelo con keras y tensorflow"
      ]
    },
    {
      "cell_type": "markdown",
      "metadata": {
        "id": "IvGoUK9gnW7N"
      },
      "source": [
        "1. **Cargue las librerias que necesite:numpy, matplotlib.pyplot,etc.**\n",
        "\n",
        "\n",
        "2. **Para cargar las librerias utilice  import seguido del nombre de la libreria y de un alias (as).Ejemplo import pandas as pd**\n",
        "\n",
        "\n",
        "3.   **Ejecute de forma secuencial de arriba hacia abajo las celdas de código dando click al boton play o ctrl+enter**\n",
        "   \n",
        "4. **Al ejecutar la celda debe marcar un check en color verde al lado izquierdo de la celda de código y en el menu de google colab en la parte superior derecha, se debe activar Ram y Disco con un check verde.**\n",
        "\n",
        "\n",
        "5. **El simbolo # es para comentarios dentro del código.**\n",
        "\n",
        "6. **Para subir un archivo a google colab se puede hacer click en la parte izquierda, donde aparace una carpeta y le da click al simbolo de una hoja con la flecha hacia arriba cargar archivo al almacenamiento de sesión.**"
      ]
    },
    {
      "cell_type": "markdown",
      "metadata": {
        "id": "n6VL35K55Xg-"
      },
      "source": [
        "Mnist un conjunto que esta dentro de keras.\n",
        "\n",
        "Conjunto de números escritos a mano digitalizados.\n",
        "\n",
        "Los números son:0,1,2,3,4,5,6,7,8,9\n",
        "\n",
        "En total son 10 números.\n",
        "\n",
        "Estos números estan en un dataset en keras.\n",
        "\n",
        "Cada imagen tiene 28 x 28 píxeles cuadrados (784 píxeles en total por cada imágen). Se utiliza una división  del conjunto de datos para evaluar y comparar modelos, en la que se utilizan 60.000 imágenes para formar un modelo(training) y un conjunto separado de 10.000 imágenes para probarlo(test)"
      ]
    },
    {
      "cell_type": "markdown",
      "metadata": {
        "id": "cXOwVB_v6NG0"
      },
      "source": [
        "**Para guardar el modelo se instala la libreria h5py**"
      ]
    },
    {
      "cell_type": "code",
      "metadata": {
        "colab": {
          "base_uri": "https://localhost:8080/"
        },
        "id": "OpnT0cgpu_ci",
        "outputId": "45b86e55-789f-4d7f-eda3-e830eee74a4b"
      },
      "source": [
        "pip install h5py\n"
      ],
      "execution_count": null,
      "outputs": [
        {
          "output_type": "stream",
          "name": "stdout",
          "text": [
            "Requirement already satisfied: h5py in /usr/local/lib/python3.10/dist-packages (3.9.0)\n",
            "Requirement already satisfied: numpy>=1.17.3 in /usr/local/lib/python3.10/dist-packages (from h5py) (1.23.5)\n"
          ]
        }
      ]
    },
    {
      "cell_type": "markdown",
      "metadata": {
        "id": "Q7bTPv1I6uCb"
      },
      "source": [
        "**Observemos las imágenes de los numeros en escala de grises**"
      ]
    },
    {
      "cell_type": "markdown",
      "metadata": {
        "id": "M7eT-TOu7C28"
      },
      "source": [
        "\n",
        "1.   x_train:entrada de la red neuronal(entrenar la red)\n",
        "2.   y_train:salida de la red neuronal(entrenar la red)\n",
        "3. x_test:entrada de prueba del red neuronal(probrando la red neuronal)\n",
        "4. y_test:salida de prueba de la red neuronal(probrando la red neuronal)\n",
        "5. mnist.load_data():Carga los números\n",
        "\n"
      ]
    },
    {
      "cell_type": "markdown",
      "metadata": {
        "id": "mnB_4B5K8teK"
      },
      "source": [
        "Para graficar los números.\n",
        "\n",
        "* Se puede escribir subplot(224) ó subplot(2,2,4)\n",
        "* Especifica num_filas, num_columnas, numplot\n",
        "\n"
      ]
    },
    {
      "cell_type": "code",
      "metadata": {
        "colab": {
          "base_uri": "https://localhost:8080/",
          "height": 484
        },
        "id": "k_riTeoB3FLG",
        "outputId": "96b5b776-fc9a-4e9b-ebc5-4fd50b73cd9c"
      },
      "source": [
        "from keras.datasets import mnist\n",
        "import matplotlib.pyplot as plt\n",
        "# cargar (descargar si es necesario) el conjunto de datos MNIST\n",
        "(x_train, y_train), (x_test, y_test) = mnist.load_data()\n",
        "# plot 4 imagenes en escala de grises\n",
        "plt.subplot(2,2,1)\n",
        "plt.imshow(x_train[1], cmap=plt.get_cmap('gray'))\n",
        "plt.subplot(2,2,2)\n",
        "plt.imshow(x_train[15], cmap=plt.get_cmap('gray'))\n",
        "plt.subplot(2,2,3)\n",
        "plt.imshow(x_train[35], cmap=plt.get_cmap('gray'))\n",
        "plt.subplot(224)\n",
        "plt.imshow(x_train[25], cmap=plt.get_cmap('gray'))\n",
        "# Muestra el gráfico de los 4 numeros\n",
        "plt.show()\n",
        "numero_de_muestras_x = len(x_train)\n",
        "numero_de_muestras_y = len(y_train)\n",
        "print(\"Número total de muestras en x_train:\", numero_de_muestras_x, numero_de_muestras_y)"
      ],
      "execution_count": null,
      "outputs": [
        {
          "output_type": "stream",
          "name": "stdout",
          "text": [
            "Downloading data from https://storage.googleapis.com/tensorflow/tf-keras-datasets/mnist.npz\n",
            "11490434/11490434 [==============================] - 0s 0us/step\n"
          ]
        },
        {
          "output_type": "display_data",
          "data": {
            "text/plain": [
              "<Figure size 640x480 with 4 Axes>"
            ],
            "image/png": "[encoded data removed]"
          },
          "metadata": {}
        },
        {
          "output_type": "stream",
          "name": "stdout",
          "text": [
            "Número total de muestras en x_train: 60000 60000\n"
          ]
        }
      ]
    },
    {
      "cell_type": "code",
      "metadata": {
        "colab": {
          "base_uri": "https://localhost:8080/"
        },
        "id": "FIX-OJowr548",
        "outputId": "628d1e17-b2e1-4639-d577-ba2298ff2430"
      },
      "source": [
        "import numpy as np\n",
        "from keras.datasets import mnist\n",
        "from keras import utils\n",
        "from keras.models import Sequential\n",
        "from keras.layers import Dense\n",
        "from tensorflow.keras.optimizers import SGD\n",
        "\n",
        "# Cargar datos\n",
        "(x_train,y_train),(x_test,y_test) = mnist.load_data()\n",
        "# (60000,28,28)\n",
        "print('x_shape:',x_train.shape)\n",
        "# (60000)\n",
        "print('y_shape:',y_train.shape)\n",
        "# (60000,28,28)->(60000,784)(salida)\n",
        "x_train = x_train.reshape(x_train.shape[0],-1)/255.0 #(se divide por 255 pixeles,para tener numeros entre 0 y 1)\n",
        "x_test = x_test.reshape(x_test.shape[0],-1)/255.0\n",
        "# Cambiar a un formato por categorias (10 debibo a los numeros 0,1,2..9)\n",
        "y_train = utils.to_categorical(y_train,num_classes=10)\n",
        "y_test = utils.to_categorical(y_test,num_classes=10)\n",
        "\n",
        "# Cree un modelo, ingrese 784 neuronas y genere 10 neuronas\n",
        "# la activacion softmax es para dar la probabilidad del numero\n",
        "model = Sequential([\n",
        "        Dense(units=10,input_dim=784,bias_initializer='one',activation='softmax')\n",
        "    ])\n",
        "\n",
        "# Definir optimizador sgd (stochastic gradient descent),  lr( learning rate) o (tasa de aprendizaje =.02)\n",
        "sgd = SGD(lr=0.2) # varie este valor\n",
        "\n",
        "# Definir optimizador, función de pérdida, precisión de cálculo durante el entrenamiento\n",
        "model.compile(\n",
        "    optimizer = sgd,\n",
        "    loss = 'mse',# funcion de perdida mse(error cuadratico media)\n",
        "    metrics=['accuracy'],# metrica, efectividad del modelo\n",
        ")\n",
        "\n",
        "#  Entrenamiento del modelo\n",
        "# batch_size= Es el numero de datos que tiene cada iteración\n",
        "#de un ciclo (epoch), esto es util porqué la red\n",
        "#neuronal actualiza los parametros W (pesos)\n",
        "\n",
        "\n",
        "# epochs=Este es el número de veces que se ejecutaran los algoritmos de forwardpropagation y backpropagation.\n",
        "#En cada ciclo (epoch) todos los datos de entrenamiento pasan por la red neuronal\n",
        "# para que esta aprenda sobre ellos, si existen 10 ciclos y 1000 datos,\n",
        "# en cada ciclo los 1000 datos pasaran por la red neuronal\n",
        "\n",
        "model.fit(x_train,y_train,batch_size=64,epochs=5)\n",
        "\n",
        "#  Evaluación del modelo con loss y accuracy\n",
        "loss,accuracy = model.evaluate(x_test,y_test)\n",
        "\n",
        "print('\\ntest loss',loss)\n",
        "print('accuracy',accuracy)\n",
        "# Guardar el modelo con extension .h5\n",
        "model.save('modeloinicial.h5')# pip install h5py"
      ],
      "execution_count": null,
      "outputs": [
        {
          "output_type": "stream",
          "name": "stdout",
          "text": [
            "x_shape: (60000, 28, 28)\n",
            "y_shape: (60000,)\n"
          ]
        },
        {
          "output_type": "stream",
          "name": "stderr",
          "text": [
            "WARNING:absl:`lr` is deprecated in Keras optimizer, please use `learning_rate` or use the legacy optimizer, e.g.,tf.keras.optimizers.legacy.SGD.\n"
          ]
        },
        {
          "output_type": "stream",
          "name": "stdout",
          "text": [
            "Epoch 1/5\n",
            "938/938 [==============================] - 3s 3ms/step - loss: 0.0874 - accuracy: 0.2406\n",
            "Epoch 2/5\n",
            "938/938 [==============================] - 3s 3ms/step - loss: 0.0820 - accuracy: 0.3527\n",
            "Epoch 3/5\n",
            "938/938 [==============================] - 7s 7ms/step - loss: 0.0766 - accuracy: 0.4374\n",
            "Epoch 4/5\n",
            "938/938 [==============================] - 3s 3ms/step - loss: 0.0713 - accuracy: 0.5269\n",
            "Epoch 5/5\n",
            "938/938 [==============================] - 2s 3ms/step - loss: 0.0656 - accuracy: 0.6209\n",
            "313/313 [==============================] - 1s 2ms/step - loss: 0.0618 - accuracy: 0.6741\n",
            "\n",
            "test loss 0.06183021888136864\n",
            "accuracy 0.6740999817848206\n"
          ]
        },
        {
          "output_type": "stream",
          "name": "stderr",
          "text": [
            "/usr/local/lib/python3.10/dist-packages/keras/src/engine/training.py:3103: UserWarning: You are saving your model as an HDF5 file via `model.save()`. This file format is considered legacy. We recommend using instead the native Keras format, e.g. `model.save('my_model.keras')`.\n",
            "  saving_api.save_model(\n"
          ]
        }
      ]
    },
    {
      "cell_type": "code",
      "metadata": {
        "colab": {
          "base_uri": "https://localhost:8080/"
        },
        "id": "oNz-kfHmzx9t",
        "outputId": "9739e54c-8c5c-4b25-8a1d-e017a700bd24"
      },
      "source": [
        "x_train.shape"
      ],
      "execution_count": null,
      "outputs": [
        {
          "output_type": "execute_result",
          "data": {
            "text/plain": [
              "(60000, 784)"
            ]
          },
          "metadata": {},
          "execution_count": 4
        }
      ]
    },
    {
      "cell_type": "code",
      "metadata": {
        "colab": {
          "base_uri": "https://localhost:8080/"
        },
        "id": "NdIPYfBjz2xn",
        "outputId": "cd322708-bf53-4d63-f3ed-79b7a5129289"
      },
      "source": [
        "y_train.shape"
      ],
      "execution_count": null,
      "outputs": [
        {
          "output_type": "execute_result",
          "data": {
            "text/plain": [
              "(60000, 10)"
            ]
          },
          "metadata": {},
          "execution_count": 5
        }
      ]
    },
    {
      "cell_type": "code",
      "metadata": {
        "colab": {
          "base_uri": "https://localhost:8080/"
        },
        "id": "OMLrX6pXz-cK",
        "outputId": "dc85f2f5-e2d2-4bae-d8da-6cc71956bd8a"
      },
      "source": [
        "x_test.shape"
      ],
      "execution_count": null,
      "outputs": [
        {
          "output_type": "execute_result",
          "data": {
            "text/plain": [
              "(10000, 784)"
            ]
          },
          "metadata": {},
          "execution_count": 6
        }
      ]
    },
    {
      "cell_type": "code",
      "metadata": {
        "colab": {
          "base_uri": "https://localhost:8080/"
        },
        "id": "e7apynln0JXQ",
        "outputId": "68e04e2f-31ab-4ae8-d92e-2474754efbe5"
      },
      "source": [
        "y_test.shape"
      ],
      "execution_count": null,
      "outputs": [
        {
          "output_type": "execute_result",
          "data": {
            "text/plain": [
              "(10000, 10)"
            ]
          },
          "metadata": {},
          "execution_count": 7
        }
      ]
    },
    {
      "cell_type": "markdown",
      "metadata": {
        "id": "qXfNyubnGtv8"
      },
      "source": [
        "**Cargar el modeloinicial.h5**"
      ]
    },
    {
      "cell_type": "code",
      "metadata": {
        "colab": {
          "base_uri": "https://localhost:8080/"
        },
        "id": "C0-jnvV5vV_E",
        "outputId": "d481e402-2afe-4bdb-f409-da76e2bfc877"
      },
      "source": [
        "import numpy as np\n",
        "from keras.datasets import mnist\n",
        "from keras import utils\n",
        "from keras.models import Sequential\n",
        "from keras.layers import Dense\n",
        "from tensorflow.keras.optimizers import SGD\n",
        "from keras.models import load_model\n",
        "# Cargar datos\n",
        "(x_train,y_train),(x_test,y_test) = mnist.load_data()\n",
        "# (60000,28,28)\n",
        "print('x_shape:',x_train.shape)\n",
        "# (60000)\n",
        "print('y_shape:',y_train.shape)\n",
        "# (60000,28,28)->(60000,784)\n",
        "x_train = x_train.reshape(x_train.shape[0],-1)/255.0\n",
        "x_test = x_test.reshape(x_test.shape[0],-1)/255.0\n",
        "# Cambiar a un formato de categorias son 10 (el numero total de números)\n",
        "y_train = utils.to_categorical(y_train,num_classes=10)\n",
        "y_test = utils.to_categorical(y_test,num_classes=10)\n",
        "\n",
        "# Carga el modelo.\n",
        "model = load_model('modeloinicial.h5')\n",
        "\n",
        "# Evaluar el modelo.\n",
        "loss,accuracy = model.evaluate(x_test,y_test)\n",
        "\n",
        "print('\\ntest loss',loss)\n",
        "print('accuracy',accuracy)\n",
        "\n",
        "# Modelo de entrenamiento,ajustar el modelo\n",
        "model.fit(x_train,y_train,batch_size=64,epochs=2)\n",
        "\n",
        "# Modelo de evaluación\n",
        "loss,accuracy = model.evaluate(x_test,y_test)\n",
        "\n",
        "print('\\ntest loss',loss)\n",
        "print('accuracy',accuracy)\n",
        "\n",
        "# Guardar parámetros, cargar parámetros(pesos)\n",
        "model.save_weights('model_pesos.h5')\n",
        "model.load_weights('model_pesos.h5')\n",
        "# Guardar la estructura de la red, cargar la estructura de red\n",
        "from keras.models import model_from_json\n",
        "json_string = model.to_json()\n",
        "model = model_from_json(json_string)\n",
        "\n",
        "print(json_string)"
      ],
      "execution_count": null,
      "outputs": [
        {
          "output_type": "stream",
          "name": "stdout",
          "text": [
            "x_shape: (60000, 28, 28)\n",
            "y_shape: (60000,)\n",
            "313/313 [==============================] - 1s 3ms/step - loss: 0.0608 - accuracy: 0.6639\n",
            "\n",
            "test loss 0.060758721083402634\n",
            "accuracy 0.6639000177383423\n",
            "Epoch 1/2\n",
            "938/938 [==============================] - 3s 3ms/step - loss: 0.0585 - accuracy: 0.6730\n",
            "Epoch 2/2\n",
            "938/938 [==============================] - 3s 3ms/step - loss: 0.0538 - accuracy: 0.6931\n",
            "313/313 [==============================] - 1s 2ms/step - loss: 0.0511 - accuracy: 0.7114\n",
            "\n",
            "test loss 0.05111900344491005\n",
            "accuracy 0.7113999724388123\n",
            "{\"class_name\": \"Sequential\", \"config\": {\"name\": \"sequential\", \"layers\": [{\"module\": \"keras.layers\", \"class_name\": \"InputLayer\", \"config\": {\"batch_input_shape\": [null, 784], \"dtype\": \"float32\", \"sparse\": false, \"ragged\": false, \"name\": \"dense_input\"}, \"registered_name\": null}, {\"module\": \"keras.layers\", \"class_name\": \"Dense\", \"config\": {\"name\": \"dense\", \"trainable\": true, \"dtype\": \"float32\", \"batch_input_shape\": [null, 784], \"units\": 10, \"activation\": \"softmax\", \"use_bias\": true, \"kernel_initializer\": {\"module\": \"keras.initializers\", \"class_name\": \"GlorotUniform\", \"config\": {\"seed\": null}, \"registered_name\": null}, \"bias_initializer\": {\"module\": \"keras.initializers\", \"class_name\": \"Ones\", \"config\": {}, \"registered_name\": null}, \"kernel_regularizer\": null, \"bias_regularizer\": null, \"activity_regularizer\": null, \"kernel_constraint\": null, \"bias_constraint\": null}, \"registered_name\": null, \"build_config\": {\"input_shape\": [null, 784]}}]}, \"keras_version\": \"2.15.0\", \"backend\": \"tensorflow\"}\n"
          ]
        }
      ]
    },
    {
      "cell_type": "markdown",
      "metadata": {
        "id": "sEUEl47Em6IP"
      },
      "source": [
        "**Imprimir las capas del modelo de red neuronal**"
      ]
    },
    {
      "cell_type": "code",
      "metadata": {
        "colab": {
          "base_uri": "https://localhost:8080/"
        },
        "id": "oG2OhSOexyex",
        "outputId": "857c6cb9-7604-40f0-b347-40da02c55e89"
      },
      "source": [
        "print(model.summary())"
      ],
      "execution_count": null,
      "outputs": [
        {
          "output_type": "stream",
          "name": "stdout",
          "text": [
            "Model: \"sequential\"\n",
            "_________________________________________________________________\n",
            " Layer (type)                Output Shape              Param #   \n",
            "=================================================================\n",
            " dense (Dense)               (None, 10)                7850      \n",
            "                                                                 \n",
            "=================================================================\n",
            "Total params: 7850 (30.66 KB)\n",
            "Trainable params: 7850 (30.66 KB)\n",
            "Non-trainable params: 0 (0.00 Byte)\n",
            "_________________________________________________________________\n",
            "None\n"
          ]
        }
      ]
    },
    {
      "cell_type": "markdown",
      "metadata": {
        "id": "AcSzVSjgumWY"
      },
      "source": [
        "Para hacer la prediccion de la imagen , la probabilidad debe sumar 1."
      ]
    },
    {
      "cell_type": "code",
      "metadata": {
        "id": "fjCQ7cQZuF4C",
        "colab": {
          "base_uri": "https://localhost:8080/"
        },
        "outputId": "40dc1c7c-29c0-4354-d412-121d960025d6"
      },
      "source": [
        "\n",
        "prediccion = model.predict(x_test)"
      ],
      "execution_count": null,
      "outputs": [
        {
          "output_type": "stream",
          "name": "stdout",
          "text": [
            "313/313 [==============================] - 1s 1ms/step\n"
          ]
        }
      ]
    },
    {
      "cell_type": "markdown",
      "metadata": {
        "id": "-L38zNoYsXHE"
      },
      "source": []
    },
    {
      "cell_type": "code",
      "metadata": {
        "colab": {
          "base_uri": "https://localhost:8080/"
        },
        "id": "6YF3Ui-er5IW",
        "outputId": "31c40fbd-048f-4c6c-f7e5-59e6210b0baf"
      },
      "source": [
        "prediccion[1]"
      ],
      "execution_count": null,
      "outputs": [
        {
          "output_type": "execute_result",
          "data": {
            "text/plain": [
              "array([0.10821267, 0.08324081, 0.08672915, 0.1077533 , 0.08698561,\n",
              "       0.06872308, 0.09885298, 0.14837672, 0.07814749, 0.13297826],\n",
              "      dtype=float32)"
            ]
          },
          "metadata": {},
          "execution_count": 11
        }
      ]
    },
    {
      "cell_type": "code",
      "source": [
        "suma_total = np.sum(prediccion[1])\n",
        "\n",
        "print(\"La suma de todos los elementos del array es:\", suma_total)"
      ],
      "metadata": {
        "colab": {
          "base_uri": "https://localhost:8080/"
        },
        "id": "Lq5c9ujqtRRt",
        "outputId": "91775ea9-9168-449a-e8b4-0ff5ce833e4a"
      },
      "execution_count": null,
      "outputs": [
        {
          "output_type": "stream",
          "name": "stdout",
          "text": [
            "La suma de todos los elementos del array es: 1.0\n"
          ]
        }
      ]
    },
    {
      "cell_type": "code",
      "metadata": {
        "colab": {
          "base_uri": "https://localhost:8080/"
        },
        "id": "iRtGeMIlvbDU",
        "outputId": "a6ccf62e-ebd1-49fd-a11b-d77d18e2439b"
      },
      "source": [
        "prediccion[0]"
      ],
      "execution_count": null,
      "outputs": [
        {
          "output_type": "execute_result",
          "data": {
            "text/plain": [
              "array([0.14683746, 0.1088042 , 0.12151056, 0.09870118, 0.11457261,\n",
              "       0.1051899 , 0.09806192, 0.05466969, 0.08485193, 0.06680054],\n",
              "      dtype=float32)"
            ]
          },
          "metadata": {},
          "execution_count": 13
        }
      ]
    },
    {
      "cell_type": "markdown",
      "metadata": {
        "id": "RRD9v4zYvH4R"
      },
      "source": [
        "**La probabilidad debe sumar 1**"
      ]
    },
    {
      "cell_type": "code",
      "metadata": {
        "colab": {
          "base_uri": "https://localhost:8080/"
        },
        "id": "o2Q51I5vuvAy",
        "outputId": "f99a3217-dd52-4493-9e88-f792516cd31e"
      },
      "source": [
        "0.06925007+ 0.06983136+ 0.15717739+ 0.08532973+ 0.14593339+0.11683442+ 0.12002686+ 0.05671936+ 0.0980637 + 0.08083368"
      ],
      "execution_count": null,
      "outputs": [
        {
          "output_type": "execute_result",
          "data": {
            "text/plain": [
              "0.9999999599999999"
            ]
          },
          "metadata": {},
          "execution_count": 14
        }
      ]
    },
    {
      "cell_type": "markdown",
      "metadata": {
        "id": "7qDUPhLayTIo"
      },
      "source": [
        "**Cada valor corresponde a la probabilidad que sea el numero 0,1,2,3 hasta el 9.**\n",
        "\n",
        "**Esta probabilidad sale cuando definimos el modelo de la red neuronal secuencial utilizando activation='softmax'**"
      ]
    },
    {
      "cell_type": "markdown",
      "metadata": {
        "id": "nxIyPCIboIDf"
      },
      "source": [
        "# **Realice lo siguiente:**"
      ]
    },
    {
      "cell_type": "markdown",
      "metadata": {
        "id": "dGRAuAkLViGm"
      },
      "source": [
        "\n",
        "*   Modifique el tipo de optimizador por ejemplo optimizer='adam'\n",
        "*   Modifique los valores de learning rate, ejemplo lr=0.001\n",
        "\n",
        "*   Modifique epochs,batch_size,ejemplo epochs=10, batch_size=200\n",
        "\n",
        "*   Agregue una capa oculta al modelo con 784 neuronas.\n",
        "\n",
        "*   Modifique Dropout, ejemplo Dropout=0.2. Esto permite excluir aleatoriamente el 20% de las neuronas en el entrenamiento para evitar el sobreajuste\n",
        "\n",
        "*    Evalue el modelo con loss y accuracy\n",
        "loss,accuracy = model.evaluate(x_test,y_test)\n",
        "\n",
        "\n",
        "\n",
        "*   Modifique loss dentro de model.compile(), ejemplo loss='categorical_crossentropy'\n",
        "\n",
        "*   Imprima las capas de neuronas del modelo print(model.summary())\n",
        "\n",
        "*   Guarde el modelo model.save('modeloinicial.h5')# pip install h5py\n",
        "\n",
        "*  Guarde los pesos del modelo mediante: model.save_weights('model_pesos.h5')\n",
        "\n"
      ]
    },
    {
      "cell_type": "code",
      "metadata": {
        "id": "kFj_FkuaoQHQ",
        "colab": {
          "base_uri": "https://localhost:8080/"
        },
        "outputId": "8150e4a6-3f8c-4e38-9ce8-bca5d21533d5"
      },
      "source": [
        "import keras\n",
        "import numpy as np\n",
        "from keras.datasets import mnist #se importa el dataset MNIST\n",
        "from keras import utils #se importa Utils la cual proporciona funciones auxiliares\n",
        "from keras.models import Sequential #Modelo de red neuronal secuencial donde hay una entrada y una salida y pasa por varias capas neuronales una tras de otra\n",
        "from keras.layers import Dense, Dropout #Dense: Capa de la red neuronal donde todas las neuronas se conectan con las capas anteriores\n",
        "from keras.layers import Dropout #Droput se refiere a un metodo para evitar el sobre ajuste generalizando mas el sistema mediante la exclusión de algunas neuronas para crear una mayor independencia en las restantes.\n",
        "from tensorflow.keras.optimizers import SGD, Adam # se importa optimizadores que son algoritmos para modificar los pesos y sesgos durante el entrenamiento para minimizar la función de perdida\n",
        "\n",
        "\n",
        "#--------------------------------------------------------------------------------------------------------------------------------\n",
        "#Se definen los hiperparametros\n",
        "\n",
        "batch_size=64 # El batch size es la cantidad de ejemplos que va a utilizar el modelo al tiempo para actualizar los pesos en una sola iteración.\n",
        "n_inputs = 784 # Se define el numero de entradas, 28x28 pixeles  para \"aplanar\" las imagenes en vectores de 784 elementos\n",
        "n_classes = 10 #Numero de clases de salida del modelo para predecir(Digitos del 0 al 9)\n",
        "epochs = 12 # Numero de epocas durante el entrenamiento del modelo\n",
        "n_neurons = 784 #Numero de neuronas en la capa oculta del modelo\n",
        "dropout=0.25 #Un porcentaje de las neuronas se \"apaga\" aleatoriamente para evitar el sobreajuste\n",
        "optimizer_type = Adam #optimizador a utilizar para minimizar la función de perdida\n",
        "lr=0.00015 # Tasa de aprendizaje inicial para el optimizador,\n",
        "loss='categorical_crossentropy' # la función de perdida que el modelo va a intentar minimizar durante el entrenamiento\n",
        "\n",
        "#---------------------------------------------------------------------------------------------------------------------------------\n",
        "\n",
        "#Preparación de Datos\n",
        "\n",
        "# Cargar datos\n",
        "(x_train,y_train),(x_test,y_test) = mnist.load_data()\n",
        "# (60000,28,28)\n",
        "print('x_shape:',x_train.shape)\n",
        "# (60000)\n",
        "print('y_shape:',y_train.shape)\n",
        "# (60000,28,28)->(60000,784)(salida)\n",
        "x_train = x_train.reshape(x_train.shape[0],-1)/255.0 #(se divide por 255 pixeles,para tener numeros entre 0 y 1)\n",
        "x_test = x_test.reshape(x_test.shape[0],-1)/255.0\n",
        "# Cambiar a un formato por categorias (10 debibo a los numeros 0,1,2..9)\n",
        "y_train = utils.to_categorical(y_train,n_classes)\n",
        "y_test = utils.to_categorical(y_test,n_classes)\n",
        "\n",
        "#---------------------------------------------------------------------------------------------------------------------------------\n",
        "#creación del modelo secuencial\n",
        "\n",
        "model = Sequential([Dense(units=n_neurons,input_dim=n_inputs,bias_initializer='one',activation='relu')])\n",
        "model.add(Dropout(dropout))\n",
        "model.add(Dense(units=n_classes, activation='softmax'))\n",
        "\n",
        "#----------------------------------------------------------------------------------------------------------------------------------\n",
        "#Configuración del Entrenamiento\n",
        "\n",
        "# Definir optimizador\n",
        "optim = optimizer_type(lr=lr) # varie este valor\n",
        "\n",
        "# Definir optimizador, función de pérdida, precisión de cálculo durante el entrenamiento\n",
        "model.compile(\n",
        "    optimizer = optim,\n",
        "    loss = loss,# funcion de perdida\n",
        "    metrics=['accuracy'],# metrica, efectividad del modelo\n",
        ")\n",
        "\n",
        "#----------------------------------------------------------------------------------------------------------------------\n",
        "#Entrenamiento del modelo\n",
        "\n",
        "model.fit(x_train,y_train,batch_size=batch_size,epochs=epochs)\n",
        "\n",
        "#----------------------------------------------------------------------------------------------------------------------\n",
        "#  Evaluación del modelo con loss y accuracy\n",
        "loss,accuracy = model.evaluate(x_test,y_test)\n",
        "#--------------------------------------------------------------------------------------------------------------------------------------\n",
        "print('\\ntest loss',loss)\n",
        "print('accuracy',accuracy)\n",
        "# Guardar el modelo con extension .h5\n",
        "model.save('modeloinicial.h5')# pip install h5pyresponde a lo solicitado  agregue mas celdas de código si lo necesita.\n",
        "model.save_weights('model_pesos.h5')"
      ],
      "execution_count": null,
      "outputs": [
        {
          "output_type": "stream",
          "name": "stdout",
          "text": [
            "x_shape: (60000, 28, 28)\n",
            "y_shape: (60000,)\n"
          ]
        },
        {
          "output_type": "stream",
          "name": "stderr",
          "text": [
            "WARNING:absl:`lr` is deprecated in Keras optimizer, please use `learning_rate` or use the legacy optimizer, e.g.,tf.keras.optimizers.legacy.Adam.\n"
          ]
        },
        {
          "output_type": "stream",
          "name": "stdout",
          "text": [
            "Epoch 1/12\n",
            "938/938 [==============================] - 14s 14ms/step - loss: 0.3161 - accuracy: 0.9054\n",
            "Epoch 2/12\n",
            "938/938 [==============================] - 13s 14ms/step - loss: 0.1419 - accuracy: 0.9577\n",
            "Epoch 3/12\n",
            "938/938 [==============================] - 14s 15ms/step - loss: 0.0956 - accuracy: 0.9704\n",
            "Epoch 4/12\n",
            "938/938 [==============================] - 13s 14ms/step - loss: 0.0701 - accuracy: 0.9779\n",
            "Epoch 5/12\n",
            "938/938 [==============================] - 14s 15ms/step - loss: 0.0550 - accuracy: 0.9822\n",
            "Epoch 6/12\n",
            "938/938 [==============================] - 14s 14ms/step - loss: 0.0455 - accuracy: 0.9852\n",
            "Epoch 7/12\n",
            "938/938 [==============================] - 14s 15ms/step - loss: 0.0385 - accuracy: 0.9876\n",
            "Epoch 8/12\n",
            "938/938 [==============================] - 14s 15ms/step - loss: 0.0322 - accuracy: 0.9895\n",
            "Epoch 9/12\n",
            "938/938 [==============================] - 15s 15ms/step - loss: 0.0263 - accuracy: 0.9913\n",
            "Epoch 10/12\n",
            "938/938 [==============================] - 14s 15ms/step - loss: 0.0241 - accuracy: 0.9920\n",
            "Epoch 11/12\n",
            "938/938 [==============================] - 14s 14ms/step - loss: 0.0232 - accuracy: 0.9921\n",
            "Epoch 12/12\n",
            "938/938 [==============================] - 14s 15ms/step - loss: 0.0205 - accuracy: 0.9931\n",
            "313/313 [==============================] - 1s 4ms/step - loss: 0.0784 - accuracy: 0.9809\n",
            "\n",
            "test loss 0.07837513834238052\n",
            "accuracy 0.98089998960495\n"
          ]
        }
      ]
    },
    {
      "cell_type": "code",
      "source": [
        "prediccion = model.predict(x_test)"
      ],
      "metadata": {
        "colab": {
          "base_uri": "https://localhost:8080/"
        },
        "id": "zbWLcRCr5-qc",
        "outputId": "f5535307-cccc-4304-c266-2f2af5de1b32"
      },
      "execution_count": null,
      "outputs": [
        {
          "output_type": "stream",
          "name": "stdout",
          "text": [
            "313/313 [==============================] - 1s 2ms/step\n"
          ]
        }
      ]
    },
    {
      "cell_type": "code",
      "source": [
        "prediccion[9999]"
      ],
      "metadata": {
        "colab": {
          "base_uri": "https://localhost:8080/"
        },
        "id": "oAjnXthPMyfG",
        "outputId": "40d8ee29-9256-4ce5-e65c-162777b5815c"
      },
      "execution_count": null,
      "outputs": [
        {
          "output_type": "execute_result",
          "data": {
            "text/plain": [
              "array([1.54909173e-07, 1.11235146e-08, 5.17999688e-08, 1.21742303e-07,\n",
              "       1.89558727e-06, 6.60492151e-06, 9.99991119e-01, 1.94558175e-10,\n",
              "       2.05591828e-08, 1.31638700e-09], dtype=float32)"
            ]
          },
          "metadata": {},
          "execution_count": 17
        }
      ]
    },
    {
      "cell_type": "code",
      "source": [
        "suma_total = np.sum(prediccion[1])\n",
        "\n",
        "print(\"La suma de todos los elementos del array es:\", suma_total)"
      ],
      "metadata": {
        "colab": {
          "base_uri": "https://localhost:8080/"
        },
        "id": "pEKFyOaJM279",
        "outputId": "9abed40d-b59d-4eb2-ad70-e6bda81116de"
      },
      "execution_count": null,
      "outputs": [
        {
          "output_type": "stream",
          "name": "stdout",
          "text": [
            "La suma de todos los elementos del array es: 0.9999999\n"
          ]
        }
      ]
    },
    {
      "cell_type": "code",
      "source": [
        "print(model.summary())"
      ],
      "metadata": {
        "colab": {
          "base_uri": "https://localhost:8080/"
        },
        "id": "RFrSXhO8NRqE",
        "outputId": "3d14153d-324f-4988-ccb6-2c6674d068a3"
      },
      "execution_count": null,
      "outputs": [
        {
          "output_type": "stream",
          "name": "stdout",
          "text": [
            "Model: \"sequential_1\"\n",
            "_________________________________________________________________\n",
            " Layer (type)                Output Shape              Param #   \n",
            "=================================================================\n",
            " dense_1 (Dense)             (None, 784)               615440    \n",
            "                                                                 \n",
            " dropout (Dropout)           (None, 784)               0         \n",
            "                                                                 \n",
            " dense_2 (Dense)             (None, 10)                7850      \n",
            "                                                                 \n",
            "=================================================================\n",
            "Total params: 623290 (2.38 MB)\n",
            "Trainable params: 623290 (2.38 MB)\n",
            "Non-trainable params: 0 (0.00 Byte)\n",
            "_________________________________________________________________\n",
            "None\n"
          ]
        }
      ]
    },
    {
      "cell_type": "markdown",
      "source": [],
      "metadata": {
        "id": "VAzKkSgXNQbK"
      }
    }
  ]
}