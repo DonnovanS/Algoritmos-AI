{
  "nbformat": 4,
  "nbformat_minor": 0,
  "metadata": {
    "colab": {
      "provenance": []
    },
    "kernelspec": {
      "name": "python3",
      "display_name": "Python 3"
    },
    "language_info": {
      "name": "python"
    }
  },
  "cells": [
    {
      "cell_type": "code",
      "execution_count": null,
      "metadata": {
        "id": "vD7yfwwH1AXA"
      },
      "outputs": [],
      "source": [
        "#Importe de funciones para tokenizar\n",
        "from tensorflow.keras.preprocessing.text import Tokenizer\n",
        "from tensorflow.keras.preprocessing.sequence import pad_sequences"
      ]
    },
    {
      "cell_type": "code",
      "source": [
        "oraciones = [\n",
        "\n",
        "\t\t'Antes que me hubiera apasionado por mujer alguna, jugué mi corazón al azar, y me lo ganó la violencia',\n",
        "\t\t'Nada supe de los deliquios embriagadores, ni de la confidencia sentimental ni de la zozobra de las miradas cobardes',\n",
        "\t\t'Cuando los ojos de Alicia me trajeron la desventura, había renunciado ya a la esperanza de sentir un afecto puro',\n",
        "\t\t'En vano mis brazos -tediosos de su libertad- se tendieron ante muchas mujeres implorando para ellos una cadena',\n",
        "\t\t'Nadie adivinaba mi ensueño. Seguía el silencio en mi corazón',\n",
        "\t\t'Más que el enamorado, fui siempre el dominador cuyos labios no conocieron la súplica',\n",
        "\t\t'Con todo, ambicionaba el don divino del amor ideal, que me encendiera espiritualmente',\n",
        "\t\t'Para que mi alma destellara sobre mi cuerpo como la llama sobre el leño que la alimenta',\n",
        "\t\t'Alicia fue un amorío fácil: se me entregó sin vacilaciones, esperanzada en el amor que buscaba en mí'\n",
        "]\n",
        "\n",
        "print(oraciones)"
      ],
      "metadata": {
        "colab": {
          "base_uri": "https://localhost:8080/"
        },
        "id": "A6biknt071jK",
        "outputId": "2c5c5592-905c-457c-a587-95222fed272d"
      },
      "execution_count": null,
      "outputs": [
        {
          "output_type": "stream",
          "name": "stdout",
          "text": [
            "['Antes que me hubiera apasionado por mujer alguna, jugué mi corazón al azar, y me lo ganó la violencia', 'Nada supe de los deliquios embriagadores, ni de la confidencia sentimental ni de la zozobra de las miradas cobardes', 'Cuando los ojos de Alicia me trajeron la desventura, había renunciado ya a la esperanza de sentir un afecto puro', 'En vano mis brazos -tediosos de su libertad- se tendieron ante muchas mujeres implorando para ellos una cadena', 'Nadie adivinaba mi ensueño. Seguía el silencio en mi corazón', 'Más que el enamorado, fui siempre el dominador cuyos labios no conocieron la súplica', 'Con todo, ambicionaba el don divino del amor ideal, que me encendiera espiritualmente', 'Para que mi alma destellara sobre mi cuerpo como la llama sobre el leño que la alimenta', 'Alicia fue un amorío fácil: se me entregó sin vacilaciones, esperanzada en el amor que buscaba en mí']\n"
          ]
        }
      ]
    },
    {
      "cell_type": "code",
      "source": [
        "tokenizador = Tokenizer(num_words=100, oov_token=\"<OOV>\")"
      ],
      "metadata": {
        "id": "TL1rEDvn8HiS"
      },
      "execution_count": null,
      "outputs": []
    },
    {
      "cell_type": "code",
      "source": [
        "tokenizador.fit_on_texts(oraciones)\n",
        "word_index = tokenizador.word_index\n",
        "print(word_index)"
      ],
      "metadata": {
        "colab": {
          "base_uri": "https://localhost:8080/"
        },
        "id": "bXwif98g-HUc",
        "outputId": "b32e1313-55cb-4c94-9395-a8ae32730be1"
      },
      "execution_count": null,
      "outputs": [
        {
          "output_type": "stream",
          "name": "stdout",
          "text": [
            "{'<OOV>': 1, 'la': 2, 'de': 3, 'que': 4, 'el': 5, 'me': 6, 'mi': 7, 'en': 8, 'corazón': 9, 'los': 10, 'ni': 11, 'alicia': 12, 'un': 13, 'se': 14, 'para': 15, 'amor': 16, 'sobre': 17, 'antes': 18, 'hubiera': 19, 'apasionado': 20, 'por': 21, 'mujer': 22, 'alguna': 23, 'jugué': 24, 'al': 25, 'azar': 26, 'y': 27, 'lo': 28, 'ganó': 29, 'violencia': 30, 'nada': 31, 'supe': 32, 'deliquios': 33, 'embriagadores': 34, 'confidencia': 35, 'sentimental': 36, 'zozobra': 37, 'las': 38, 'miradas': 39, 'cobardes': 40, 'cuando': 41, 'ojos': 42, 'trajeron': 43, 'desventura': 44, 'había': 45, 'renunciado': 46, 'ya': 47, 'a': 48, 'esperanza': 49, 'sentir': 50, 'afecto': 51, 'puro': 52, 'vano': 53, 'mis': 54, 'brazos': 55, 'tediosos': 56, 'su': 57, 'libertad': 58, 'tendieron': 59, 'ante': 60, 'muchas': 61, 'mujeres': 62, 'implorando': 63, 'ellos': 64, 'una': 65, 'cadena': 66, 'nadie': 67, 'adivinaba': 68, 'ensueño': 69, 'seguía': 70, 'silencio': 71, 'más': 72, 'enamorado': 73, 'fui': 74, 'siempre': 75, 'dominador': 76, 'cuyos': 77, 'labios': 78, 'no': 79, 'conocieron': 80, 'súplica': 81, 'con': 82, 'todo': 83, 'ambicionaba': 84, 'don': 85, 'divino': 86, 'del': 87, 'ideal': 88, 'encendiera': 89, 'espiritualmente': 90, 'alma': 91, 'destellara': 92, 'cuerpo': 93, 'como': 94, 'llama': 95, 'leño': 96, 'alimenta': 97, 'fue': 98, 'amorío': 99, 'fácil': 100, 'entregó': 101, 'sin': 102, 'vacilaciones': 103, 'esperanzada': 104, 'buscaba': 105, 'mí': 106}\n"
          ]
        }
      ]
    },
    {
      "cell_type": "code",
      "source": [
        "sequencias = tokenizador.texts_to_sequences(oraciones)\n",
        "print(sequencias)"
      ],
      "metadata": {
        "colab": {
          "base_uri": "https://localhost:8080/"
        },
        "id": "nJzqAXwd_hEy",
        "outputId": "ded7e074-a495-4be8-80a8-7f1926d0c991"
      },
      "execution_count": null,
      "outputs": [
        {
          "output_type": "stream",
          "name": "stdout",
          "text": [
            "[[18, 4, 6, 19, 20, 21, 22, 23, 24, 7, 9, 25, 26, 27, 6, 28, 29, 2, 30], [31, 32, 3, 10, 33, 34, 11, 3, 2, 35, 36, 11, 3, 2, 37, 3, 38, 39, 40], [41, 10, 42, 3, 12, 6, 43, 2, 44, 45, 46, 47, 48, 2, 49, 3, 50, 13, 51, 52], [8, 53, 54, 55, 56, 3, 57, 58, 14, 59, 60, 61, 62, 63, 15, 64, 65, 66], [67, 68, 7, 69, 70, 5, 71, 8, 7, 9], [72, 4, 5, 73, 74, 75, 5, 76, 77, 78, 79, 80, 2, 81], [82, 83, 84, 5, 85, 86, 87, 16, 88, 4, 6, 89, 90], [15, 4, 7, 91, 92, 17, 7, 93, 94, 2, 95, 17, 5, 96, 4, 2, 97], [12, 98, 13, 99, 1, 14, 6, 1, 1, 1, 1, 8, 5, 16, 4, 1, 8, 1]]\n"
          ]
        }
      ]
    },
    {
      "cell_type": "code",
      "source": [
        "padded = pad_sequences(sequencias)\n",
        "\n",
        "print(\"\\nWord Index = \" , word_index)\n",
        "print(\"\\nSequences = \" , sequencias)\n",
        "print(\"\\nPadded Sequences:\")\n",
        "print(padded)\n"
      ],
      "metadata": {
        "colab": {
          "base_uri": "https://localhost:8080/"
        },
        "id": "bcXIVDg4Ag_q",
        "outputId": "2a10c9e1-5ce2-484c-ee2f-e0fa5cab0db3"
      },
      "execution_count": null,
      "outputs": [
        {
          "output_type": "stream",
          "name": "stdout",
          "text": [
            "\n",
            "Word Index =  {'<OOV>': 1, 'la': 2, 'de': 3, 'que': 4, 'el': 5, 'me': 6, 'mi': 7, 'en': 8, 'corazón': 9, 'los': 10, 'ni': 11, 'alicia': 12, 'un': 13, 'se': 14, 'para': 15, 'amor': 16, 'sobre': 17, 'antes': 18, 'hubiera': 19, 'apasionado': 20, 'por': 21, 'mujer': 22, 'alguna': 23, 'jugué': 24, 'al': 25, 'azar': 26, 'y': 27, 'lo': 28, 'ganó': 29, 'violencia': 30, 'nada': 31, 'supe': 32, 'deliquios': 33, 'embriagadores': 34, 'confidencia': 35, 'sentimental': 36, 'zozobra': 37, 'las': 38, 'miradas': 39, 'cobardes': 40, 'cuando': 41, 'ojos': 42, 'trajeron': 43, 'desventura': 44, 'había': 45, 'renunciado': 46, 'ya': 47, 'a': 48, 'esperanza': 49, 'sentir': 50, 'afecto': 51, 'puro': 52, 'vano': 53, 'mis': 54, 'brazos': 55, 'tediosos': 56, 'su': 57, 'libertad': 58, 'tendieron': 59, 'ante': 60, 'muchas': 61, 'mujeres': 62, 'implorando': 63, 'ellos': 64, 'una': 65, 'cadena': 66, 'nadie': 67, 'adivinaba': 68, 'ensueño': 69, 'seguía': 70, 'silencio': 71, 'más': 72, 'enamorado': 73, 'fui': 74, 'siempre': 75, 'dominador': 76, 'cuyos': 77, 'labios': 78, 'no': 79, 'conocieron': 80, 'súplica': 81, 'con': 82, 'todo': 83, 'ambicionaba': 84, 'don': 85, 'divino': 86, 'del': 87, 'ideal': 88, 'encendiera': 89, 'espiritualmente': 90, 'alma': 91, 'destellara': 92, 'cuerpo': 93, 'como': 94, 'llama': 95, 'leño': 96, 'alimenta': 97, 'fue': 98, 'amorío': 99, 'fácil': 100, 'entregó': 101, 'sin': 102, 'vacilaciones': 103, 'esperanzada': 104, 'buscaba': 105, 'mí': 106}\n",
            "\n",
            "Sequences =  [[18, 4, 6, 19, 20, 21, 22, 23, 24, 7, 9, 25, 26, 27, 6, 28, 29, 2, 30], [31, 32, 3, 10, 33, 34, 11, 3, 2, 35, 36, 11, 3, 2, 37, 3, 38, 39, 40], [41, 10, 42, 3, 12, 6, 43, 2, 44, 45, 46, 47, 48, 2, 49, 3, 50, 13, 51, 52], [8, 53, 54, 55, 56, 3, 57, 58, 14, 59, 60, 61, 62, 63, 15, 64, 65, 66], [67, 68, 7, 69, 70, 5, 71, 8, 7, 9], [72, 4, 5, 73, 74, 75, 5, 76, 77, 78, 79, 80, 2, 81], [82, 83, 84, 5, 85, 86, 87, 16, 88, 4, 6, 89, 90], [15, 4, 7, 91, 92, 17, 7, 93, 94, 2, 95, 17, 5, 96, 4, 2, 97], [12, 98, 13, 99, 1, 14, 6, 1, 1, 1, 1, 8, 5, 16, 4, 1, 8, 1]]\n",
            "\n",
            "Padded Sequences:\n",
            "[[ 0 18  4  6 19 20 21 22 23 24  7  9 25 26 27  6 28 29  2 30]\n",
            " [ 0 31 32  3 10 33 34 11  3  2 35 36 11  3  2 37  3 38 39 40]\n",
            " [41 10 42  3 12  6 43  2 44 45 46 47 48  2 49  3 50 13 51 52]\n",
            " [ 0  0  8 53 54 55 56  3 57 58 14 59 60 61 62 63 15 64 65 66]\n",
            " [ 0  0  0  0  0  0  0  0  0  0 67 68  7 69 70  5 71  8  7  9]\n",
            " [ 0  0  0  0  0  0 72  4  5 73 74 75  5 76 77 78 79 80  2 81]\n",
            " [ 0  0  0  0  0  0  0 82 83 84  5 85 86 87 16 88  4  6 89 90]\n",
            " [ 0  0  0 15  4  7 91 92 17  7 93 94  2 95 17  5 96  4  2 97]\n",
            " [ 0  0 12 98 13 99  1 14  6  1  1  1  1  8  5 16  4  1  8  1]]\n"
          ]
        }
      ]
    },
    {
      "cell_type": "code",
      "source": [
        "padded = pad_sequences(sequencias, maxlen=15)\n",
        "print(padded)"
      ],
      "metadata": {
        "colab": {
          "base_uri": "https://localhost:8080/"
        },
        "id": "5dw7x14IB_ma",
        "outputId": "2727f820-9e8f-4568-cc0b-d93ac47e7aa0"
      },
      "execution_count": null,
      "outputs": [
        {
          "output_type": "stream",
          "name": "stdout",
          "text": [
            "[[20 21 22 23 24  7  9 25 26 27  6 28 29  2 30]\n",
            " [33 34 11  3  2 35 36 11  3  2 37  3 38 39 40]\n",
            " [ 6 43  2 44 45 46 47 48  2 49  3 50 13 51 52]\n",
            " [55 56  3 57 58 14 59 60 61 62 63 15 64 65 66]\n",
            " [ 0  0  0  0  0 67 68  7 69 70  5 71  8  7  9]\n",
            " [ 0 72  4  5 73 74 75  5 76 77 78 79 80  2 81]\n",
            " [ 0  0 82 83 84  5 85 86 87 16 88  4  6 89 90]\n",
            " [ 7 91 92 17  7 93 94  2 95 17  5 96  4  2 97]\n",
            " [99  1 14  6  1  1  1  1  8  5 16  4  1  8  1]]\n"
          ]
        }
      ]
    },
    {
      "cell_type": "code",
      "source": [],
      "metadata": {
        "id": "5D4DKQysDr-b"
      },
      "execution_count": null,
      "outputs": []
    }
  ]
}